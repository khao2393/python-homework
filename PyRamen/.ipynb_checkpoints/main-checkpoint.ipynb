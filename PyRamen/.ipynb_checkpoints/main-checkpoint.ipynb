{
 "cells": [
  {
   "cell_type": "code",
   "execution_count": 1,
   "metadata": {},
   "outputs": [],
   "source": [
    "# Unit 2 | PyRamen\n",
    "\n",
    "import csv\n",
    "\n",
    "menu = []\n",
    "sales = []\n",
    "\n",
    "with open('C:\\\\Users\\\\14259\\\\Desktop\\\\Kevin\\\\UW\\\\Python Unit 2 HW\\\\menu_data.csv') as m:\n",
    "    menu_data = csv.reader(m)\n",
    "    next(menu_data)\n",
    "    for row in menu_data:\n",
    "        menu.append(row)\n",
    "\n",
    "with open('C:\\\\Users\\\\14259\\\\Desktop\\\\Kevin\\\\UW\\\\Python Unit 2 HW\\\\sales_data.csv') as s:\n",
    "    sales_data = csv.reader(s)\n",
    "    next(sales_data)\n",
    "    for row in sales_data:\n",
    "        sales.append(row)\n",
    "\n",
    "report = {}\n",
    "\n",
    "for a,b,c,quantity,sales_item in sales:\n",
    "    quantity = int(quantity)\n",
    "    if sales_item not in report:\n",
    "        report[sales_item] = {\"01-count\": 0, \"02-revenue\": 0, \"03-cogs\": 0,\n",
    "\"04-profit\": 0,}\n",
    "        report[sales_item]['01-count'] += quantity\n",
    "    elif sales_item in report:\n",
    "        report[sales_item]['01-count'] += quantity\n",
    "    for menu_item,d,e,price,cost in menu:\n",
    "        price = float(price)\n",
    "        cost = float(cost)\n",
    "        if menu_item == sales_item:\n",
    "            profit = price - cost\n",
    "            report[sales_item]['02-revenue'] += price * quantity\n",
    "            report[sales_item]['03-cogs'] += cost * quantity\n",
    "            report[sales_item]['04-profit'] += profit * quantity\n",
    "        #else:\n",
    "           #print(f'{menu_item} does not equal {sales_item}! NO MATCH!')"
   ]
  },
  {
   "cell_type": "code",
   "execution_count": 2,
   "metadata": {},
   "outputs": [
    {
     "data": {
      "text/plain": [
       "{'spicy miso ramen': {'01-count': 9238,\n",
       "  '02-revenue': 110856.0,\n",
       "  '03-cogs': 46190.0,\n",
       "  '04-profit': 64666.0},\n",
       " 'tori paitan ramen': {'01-count': 9156,\n",
       "  '02-revenue': 119028.0,\n",
       "  '03-cogs': 54936.0,\n",
       "  '04-profit': 64092.0},\n",
       " 'truffle butter ramen': {'01-count': 8982,\n",
       "  '02-revenue': 125748.0,\n",
       "  '03-cogs': 62874.0,\n",
       "  '04-profit': 62874.0},\n",
       " 'tonkotsu ramen': {'01-count': 9288,\n",
       "  '02-revenue': 120744.0,\n",
       "  '03-cogs': 55728.0,\n",
       "  '04-profit': 65016.0},\n",
       " 'vegetarian spicy miso': {'01-count': 9216,\n",
       "  '02-revenue': 110592.0,\n",
       "  '03-cogs': 46080.0,\n",
       "  '04-profit': 64512.0},\n",
       " 'shio ramen': {'01-count': 9180,\n",
       "  '02-revenue': 100980.0,\n",
       "  '03-cogs': 45900.0,\n",
       "  '04-profit': 55080.0},\n",
       " 'miso crab ramen': {'01-count': 8890,\n",
       "  '02-revenue': 106680.0,\n",
       "  '03-cogs': 53340.0,\n",
       "  '04-profit': 53340.0},\n",
       " 'nagomi shoyu': {'01-count': 9132,\n",
       "  '02-revenue': 100452.0,\n",
       "  '03-cogs': 45660.0,\n",
       "  '04-profit': 54792.0},\n",
       " 'soft-shell miso crab ramen': {'01-count': 9130,\n",
       "  '02-revenue': 127820.0,\n",
       "  '03-cogs': 63910.0,\n",
       "  '04-profit': 63910.0},\n",
       " 'burnt garlic tonkotsu ramen': {'01-count': 9070,\n",
       "  '02-revenue': 126980.0,\n",
       "  '03-cogs': 54420.0,\n",
       "  '04-profit': 72560.0},\n",
       " 'vegetarian curry + king trumpet mushroom ramen': {'01-count': 8824,\n",
       "  '02-revenue': 114712.0,\n",
       "  '03-cogs': 61768.0,\n",
       "  '04-profit': 52944.0}}"
      ]
     },
     "execution_count": 2,
     "metadata": {},
     "output_type": "execute_result"
    }
   ],
   "source": [
    "report"
   ]
  },
  {
   "cell_type": "code",
   "execution_count": null,
   "metadata": {},
   "outputs": [],
   "source": []
  }
 ],
 "metadata": {
  "kernelspec": {
   "display_name": "Python 3",
   "language": "python",
   "name": "python3"
  },
  "language_info": {
   "codemirror_mode": {
    "name": "ipython",
    "version": 3
   },
   "file_extension": ".py",
   "mimetype": "text/x-python",
   "name": "python",
   "nbconvert_exporter": "python",
   "pygments_lexer": "ipython3",
   "version": "3.8.3"
  }
 },
 "nbformat": 4,
 "nbformat_minor": 4
}
